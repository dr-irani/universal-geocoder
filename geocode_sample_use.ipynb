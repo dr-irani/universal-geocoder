{
 "cells": [
  {
   "cell_type": "markdown",
   "metadata": {},
   "source": [
    "## Universal Geocoder Sample Use\n",
    "\n",
    "\n",
    "The Universal Geocoder conducts a point in polygon inclusion test. We are testing whether or not the coordinates fall within the polygons. This type of transormation can also be done using a spatial join tool in ArcGIS.\n",
    "\n",
    "Zip code, blockgroup, and council district shapefiles were  downloaded at the county GIS portal: https://www5.kingcounty.gov/gisdataportal/ Informal neighorhoods were downloaded at: https://data.seattle.gov/dataset/Neighborhoods/2mbt-aqqx Urban Villages were downloaded at: https://data.seattle.gov/dataset/Urban-Villages/ugw3-tp9e\n",
    "\n",
    "This geocoder requires geopandas its dependencies. I had to pip install geopandas, pip install rtree, and brew install spatialindex."
   ]
  },
  {
   "cell_type": "code",
   "execution_count": 4,
   "metadata": {},
   "outputs": [],
   "source": [
    "import init\n",
    "import geocoder\n",
    "import pandas as pd\n",
    "\n",
    "geo = geocoder.Geocoder()"
   ]
  },
  {
   "cell_type": "markdown",
   "metadata": {},
   "source": [
    "### Point Location Example\n",
    "\n",
    "Inputs: lat/lon point in string/tuple format, pickle name (optional)\n",
    "\n",
    "Outputs: dataframe of geocoded information"
   ]
  },
  {
   "cell_type": "code",
   "execution_count": 5,
   "metadata": {},
   "outputs": [
    {
     "name": "stdout",
     "output_type": "stream",
     "text": [
      "      lat      lon                geometry\n",
      "0  47.728  -122.35  POINT (-122.35 47.728)\n",
      "geography     lat     lon   block_group neighborhood_long neighborhood_short  \\\n",
      "0          47.728 -122.35  530330004011   NO BROADER TERM        Bitter Lake   \n",
      "\n",
      "geography seattle_city_council_district urban_village zipcode  \n",
      "0                                  SCC5          None   98133  \n"
     ]
    }
   ],
   "source": [
    "df_point_location = geo.geocode_point((47.728, -122.350))\n",
    "print (df_point_location)"
   ]
  },
  {
   "cell_type": "markdown",
   "metadata": {},
   "source": [
    "### Batch Location Example with Pandas\n",
    "Inputs: input pandas df, pickle name (optional); columns must include be 'lat' and 'lon'; the input dataframe must not include a column named 'geography'.\n",
    "\n",
    "Outputs: dataframe of geocoded information\n"
   ]
  },
  {
   "cell_type": "code",
   "execution_count": 19,
   "metadata": {},
   "outputs": [
    {
     "name": "stdout",
     "output_type": "stream",
     "text": [
      "geography        lat         lon            block_group   block_group  \\\n",
      "0          47.608315 -122.317345            12th Avenue  530330086002   \n",
      "1          47.603145 -122.306682   23rd & Union-Jackson  530330087003   \n",
      "2          47.582350 -122.386420                Admiral  530330096002   \n",
      "3          47.696854 -122.345977  Aurora-Licton Springs  530330018003   \n",
      "4          47.670593 -122.382603                Ballard  530330047004   \n",
      "\n",
      "geography      neighborhood_long neighborhood_long     neighborhood_short  \\\n",
      "0                    12th Avenue          DOWNTOWN            12th Avenue   \n",
      "1           23rd & Union-Jackson      CENTRAL AREA   23rd & Union-Jackson   \n",
      "2                        Admiral      WEST SEATTLE                Admiral   \n",
      "3          Aurora-Licton Springs   NO BROADER TERM  Aurora-Licton Springs   \n",
      "4                        Ballard           BALLARD                Ballard   \n",
      "\n",
      "geography neighborhood_short seattle_city_council_district  \\\n",
      "0                 First Hill                   12th Avenue   \n",
      "1                      Minor          23rd & Union-Jackson   \n",
      "2              North Admiral                       Admiral   \n",
      "3                  Greenwood         Aurora-Licton Springs   \n",
      "4                      Adams                       Ballard   \n",
      "\n",
      "geography seattle_city_council_district          urban_village  \\\n",
      "0                                  SCC3            12th Avenue   \n",
      "1                                  SCC3   23rd & Union-Jackson   \n",
      "2                                  SCC1                Admiral   \n",
      "3                                  SCC5  Aurora-Licton Springs   \n",
      "4                                  SCC6                Ballard   \n",
      "\n",
      "geography          urban_village                zipcode zipcode  \n",
      "0                    12th Avenue            12th Avenue   98122  \n",
      "1           23rd & Union-Jackson   23rd & Union-Jackson   98122  \n",
      "2                        Admiral                Admiral   98116  \n",
      "3          Aurora-Licton Springs  Aurora-Licton Springs   98103  \n",
      "4                        Ballard                Ballard   98107  \n"
     ]
    }
   ],
   "source": [
    "input_file = \"./data/raw/sample_locations2.csv\"\n",
    "df_input = pd.read_csv(input_file)\n",
    "\n",
    "df_batch_location = geo.geocode_df(df_input)\n",
    "print (df_batch_location.head())\n"
   ]
  },
  {
   "cell_type": "markdown",
   "metadata": {},
   "source": [
    "### Large file performance test"
   ]
  },
  {
   "cell_type": "code",
   "execution_count": 21,
   "metadata": {},
   "outputs": [
    {
     "name": "stdout",
     "output_type": "stream",
     "text": [
      "geography        lat         lon            block_group   block_group  \\\n",
      "0          47.608315 -122.317345            12th Avenue  530330086002   \n",
      "1          47.603145 -122.306682   23rd & Union-Jackson  530330087003   \n",
      "2          47.582350 -122.386420                Admiral  530330096002   \n",
      "3          47.696854 -122.345977  Aurora-Licton Springs  530330018003   \n",
      "4          47.670593 -122.382603                Ballard  530330047004   \n",
      "\n",
      "geography      neighborhood_long neighborhood_long     neighborhood_short  \\\n",
      "0                    12th Avenue          DOWNTOWN            12th Avenue   \n",
      "1           23rd & Union-Jackson      CENTRAL AREA   23rd & Union-Jackson   \n",
      "2                        Admiral      WEST SEATTLE                Admiral   \n",
      "3          Aurora-Licton Springs   NO BROADER TERM  Aurora-Licton Springs   \n",
      "4                        Ballard           BALLARD                Ballard   \n",
      "\n",
      "geography neighborhood_short seattle_city_council_district  \\\n",
      "0                 First Hill                   12th Avenue   \n",
      "1                      Minor          23rd & Union-Jackson   \n",
      "2              North Admiral                       Admiral   \n",
      "3                  Greenwood         Aurora-Licton Springs   \n",
      "4                      Adams                       Ballard   \n",
      "\n",
      "geography seattle_city_council_district          urban_village  \\\n",
      "0                                  SCC3            12th Avenue   \n",
      "1                                  SCC3   23rd & Union-Jackson   \n",
      "2                                  SCC1                Admiral   \n",
      "3                                  SCC5  Aurora-Licton Springs   \n",
      "4                                  SCC6                Ballard   \n",
      "\n",
      "geography          urban_village                zipcode zipcode  \n",
      "0                    12th Avenue            12th Avenue   98122  \n",
      "1           23rd & Union-Jackson   23rd & Union-Jackson   98122  \n",
      "2                        Admiral                Admiral   98116  \n",
      "3          Aurora-Licton Springs  Aurora-Licton Springs   98103  \n",
      "4                        Ballard                Ballard   98107  \n",
      "123.60518503189087 seconds\n"
     ]
    }
   ],
   "source": [
    "# Create a large file (100,000 rows) to test performance\n",
    "\n",
    "input_file = \"./data/raw/sample_locations2.csv\"\n",
    "df_input = pd.read_csv(input_file)\n",
    "df_input_large = df_input\n",
    "\n",
    "for i in range(2300):\n",
    "    df_input_large = pd.concat([df_input_large, df_input])\n",
    "df_input_large = df_input_large.reset_index(drop=True)\n",
    "\n",
    "# start timer\n",
    "import time\n",
    "start = time.time()\n",
    "\n",
    "# geocode\n",
    "df_batch_location_large = geo.geocode_df(df_input_large)\n",
    "print (df_batch_location_large.head())\n",
    "\n",
    "# end timer\n",
    "end = time.time()\n",
    "\n",
    "print(end - start, \"seconds\")"
   ]
  }
 ],
 "metadata": {
  "kernelspec": {
   "display_name": "Python 3",
   "language": "python",
   "name": "python3"
  },
  "language_info": {
   "codemirror_mode": {
    "name": "ipython",
    "version": 3
   },
   "file_extension": ".py",
   "mimetype": "text/x-python",
   "name": "python",
   "nbconvert_exporter": "python",
   "pygments_lexer": "ipython3",
   "version": "3.6.5"
  }
 },
 "nbformat": 4,
 "nbformat_minor": 2
}
